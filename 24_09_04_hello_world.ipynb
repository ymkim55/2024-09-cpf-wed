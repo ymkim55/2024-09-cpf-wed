{
  "nbformat": 4,
  "nbformat_minor": 0,
  "metadata": {
    "colab": {
      "provenance": [],
      "toc_visible": true
    },
    "kernelspec": {
      "name": "python3",
      "display_name": "Python 3"
    },
    "language_info": {
      "name": "python"
    }
  },
  "cells": [
    {
      "cell_type": "code",
      "source": [
        "print(\"Hello world\")"
      ],
      "metadata": {
        "id": "v3avbj3jT3RA"
      },
      "execution_count": null,
      "outputs": []
    },
    {
      "cell_type": "code",
      "source": [
        "print(\"sks\")"
      ],
      "metadata": {
        "id": "dtORs8ZUUHF1"
      },
      "execution_count": null,
      "outputs": []
    },
    {
      "cell_type": "code",
      "source": [
        "print(\"먹지마!\")"
      ],
      "metadata": {
        "id": "O_wEMnMZXn9H"
      },
      "execution_count": null,
      "outputs": []
    },
    {
      "cell_type": "code",
      "source": [
        "import pylab as py\n",
        "\n",
        "x_deg = py.arange(-180, 180+1, )\n",
        "x_rad = py.deg2rad(x_deg)\n",
        "y = py.sin(x_rad)\n",
        "\n",
        "py.plot(x_deg, y)\n",
        "\n",
        "py.xlabel('x(deg)')\n",
        "py.ylabel('sin(x)')\n",
        "py.grid (True)"
      ],
      "metadata": {
        "id": "t2L43yxBiEuT"
      },
      "execution_count": null,
      "outputs": []
    }
  ]
}